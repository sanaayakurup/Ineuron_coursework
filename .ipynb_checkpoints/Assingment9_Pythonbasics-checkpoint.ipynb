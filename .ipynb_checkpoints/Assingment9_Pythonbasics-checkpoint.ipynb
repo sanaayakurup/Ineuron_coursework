{
 "cells": [
  {
   "cell_type": "markdown",
   "metadata": {},
   "source": [
    "## Assignment 9"
   ]
  },
  {
   "cell_type": "code",
   "execution_count": null,
   "metadata": {},
   "outputs": [],
   "source": [
    "Answer 1\n",
    "A relative path refers to a location that is relative to a current directory.\n",
    "for example \n",
    "current path: D:\\ineuron_course\n",
    "suppose i want to get to the D folder without copy pasting the path, i can write a relative path \n",
    "cd ../\n",
    "this will take me out of the ineuron course folder director and to the D directory \n"
   ]
  },
  {
   "cell_type": "code",
   "execution_count": null,
   "metadata": {},
   "outputs": [],
   "source": [
    "Answer 2\n",
    "An absolute path starts with a drive letter, such as D:, C:\n",
    "\n"
   ]
  },
  {
   "cell_type": "code",
   "execution_count": null,
   "metadata": {},
   "outputs": [],
   "source": [
    "Answer 3\n",
    "OS.GETCWD() returns the current working directory \n",
    "OS.CHDIR() changes the directory to the path specified in the argument "
   ]
  },
  {
   "cell_type": "code",
   "execution_count": null,
   "metadata": {},
   "outputs": [],
   "source": [
    "Answer 4\n",
    ". is the relative path of the current directory \n",
    ".. is the relative path of the folder hosting the current directory, one folder outside the current directory "
   ]
  },
  {
   "cell_type": "code",
   "execution_count": null,
   "metadata": {},
   "outputs": [],
   "source": [
    "Answer 5\n",
    "the base name i.e. the file name is spam.txt. \n",
    "the C:\\bacom\\eggs\\ is the directory "
   ]
  },
  {
   "cell_type": "code",
   "execution_count": null,
   "metadata": {},
   "outputs": [],
   "source": [
    "Answer 6\n",
    "three modes for the open() function are r read, w write and t to open in text mode \n"
   ]
  },
  {
   "cell_type": "code",
   "execution_count": null,
   "metadata": {},
   "outputs": [],
   "source": [
    "Answer 7\n",
    "if an exisiting file is written in write mode, all the data within that file will be erased. the file will be written over and will be blank"
   ]
  },
  {
   "cell_type": "code",
   "execution_count": null,
   "metadata": {},
   "outputs": [],
   "source": [
    "Answer 8\n",
    "read_lines read a single line of the file where as read() reads the entire file as lists of strings \n"
   ]
  },
  {
   "cell_type": "code",
   "execution_count": null,
   "metadata": {},
   "outputs": [],
   "source": [
    "Answer 9\n",
    "A shelf value resembles a dictionary value; it has keys and values, along with keys() and values() methods that work similarly to the dictionary methods of the same names."
   ]
  }
 ],
 "metadata": {
  "kernelspec": {
   "display_name": "Python 3",
   "language": "python",
   "name": "python3"
  },
  "language_info": {
   "codemirror_mode": {
    "name": "ipython",
    "version": 3
   },
   "file_extension": ".py",
   "mimetype": "text/x-python",
   "name": "python",
   "nbconvert_exporter": "python",
   "pygments_lexer": "ipython3",
   "version": "3.8.3"
  }
 },
 "nbformat": 4,
 "nbformat_minor": 4
}
