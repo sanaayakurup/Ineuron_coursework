{
 "cells": [
  {
   "cell_type": "code",
   "execution_count": null,
   "metadata": {},
   "outputs": [],
   "source": [
    "##Assignment 21"
   ]
  },
  {
   "cell_type": "code",
   "execution_count": 13,
   "metadata": {},
   "outputs": [
    {
     "data": {
      "text/plain": [
       "10"
      ]
     },
     "execution_count": 13,
     "metadata": {},
     "output_type": "execute_result"
    }
   ],
   "source": [
    "a1\n",
    "from datetime import date\n",
    "date=str(date.today())\n",
    "file1=open('today.txt','w')\n",
    "file1.write(date)\n",
    "file1.close()"
   ]
  },
  {
   "cell_type": "code",
   "execution_count": 22,
   "metadata": {
    "scrolled": true
   },
   "outputs": [
    {
     "name": "stdout",
     "output_type": "stream",
     "text": [
      "2022-01-21\n"
     ]
    }
   ],
   "source": [
    "a2\n",
    "with open('today.txt','r') as file2:\n",
    "    today_string=file2.read()\n",
    "    print(today_string)\n",
    "    file2\n",
    "    \n",
    "    "
   ]
  },
  {
   "cell_type": "code",
   "execution_count": 40,
   "metadata": {},
   "outputs": [
    {
     "data": {
      "text/plain": [
       "datetime.datetime(2022, 1, 21, 0, 0)"
      ]
     },
     "execution_count": 40,
     "metadata": {},
     "output_type": "execute_result"
    }
   ],
   "source": [
    "a3\n",
    "from datetime import datetime \n",
    "today_string\n",
    "datetime.strptime(today_string,'%Y-%m-%d')"
   ]
  },
  {
   "cell_type": "code",
   "execution_count": 43,
   "metadata": {
    "scrolled": true
   },
   "outputs": [
    {
     "name": "stdout",
     "output_type": "stream",
     "text": [
      " Volume in drive D has no label.\n",
      " Volume Serial Number is 1E5A-3431\n",
      "\n",
      " Directory of D:\\ineuron_course\\Assignments\\Ineuron_coursework\n",
      "\n",
      "01/21/2022  09:40 PM    <DIR>          .\n",
      "01/21/2022  09:40 PM    <DIR>          ..\n",
      "01/20/2022  04:13 PM                27 .gitignore.gitignore\n",
      "01/21/2022  09:16 PM    <DIR>          .ipynb_checkpoints\n",
      "01/10/2022  04:27 PM             4,210 Assignment 3_Pythonbasics.ipynb\n",
      "01/10/2022  05:26 PM             7,498 Assignment 4_Pythonbasics.ipynb\n",
      "01/10/2022  02:16 PM             4,351 Assignment1_Pythonbasics.ipynb\n",
      "01/20/2022  02:50 PM             2,202 Assignment10_Pythonbasics.ipynb\n",
      "01/20/2022  03:39 PM             5,784 assignment11_pythonbasics.ipynb\n",
      "01/20/2022  04:07 PM             2,281 Assignment13_pythonbasics.ipynb\n",
      "01/20/2022  06:31 PM             4,913 assignment16_pythonbasics.ipynb\n",
      "01/20/2022  10:55 PM             5,837 assignment17_pythonbasics.ipynb\n",
      "01/10/2022  04:02 PM             5,760 Assignment2_Pythonbasics.ipynb\n",
      "01/21/2022  06:52 PM             8,767 Assignment20.ipynb\n",
      "01/10/2022  05:45 PM             2,858 Assignment5_pythonbasics.ipynb\n",
      "01/10/2022  10:22 PM             4,552 Assignment6_Pythonbasics.ipynb\n",
      "01/20/2022  01:51 PM             3,148 Assingment9_Pythonbasics.ipynb\n",
      "01/21/2022  06:37 PM             8,192 books\n",
      "01/21/2022  06:18 PM               213 books.csv\n",
      "01/21/2022  06:49 PM             8,192 books.db\n",
      "01/20/2022  02:14 PM                 0 dd.txt\n",
      "01/20/2022  03:31 PM                 0 programLog.txt\n",
      "01/10/2022  02:16 PM                20 README.md\n",
      "01/20/2022  01:45 PM                 0 t.txt\n",
      "01/21/2022  06:05 PM                43 test.txt\n",
      "01/21/2022  09:21 PM                10 today.txt\n",
      "01/21/2022  06:52 PM             8,767 Untitled.ipynb\n",
      "01/21/2022  09:40 PM             2,519 Untitled1.ipynb\n",
      "              25 File(s)         90,144 bytes\n",
      "               3 Dir(s)  267,054,784,512 bytes free\n"
     ]
    }
   ],
   "source": [
    "a4\n",
    "ls"
   ]
  },
  {
   "cell_type": "code",
   "execution_count": 61,
   "metadata": {},
   "outputs": [
    {
     "data": {
      "text/plain": [
       "['.git', 'Ineuron_coursework']"
      ]
     },
     "execution_count": 61,
     "metadata": {},
     "output_type": "execute_result"
    }
   ],
   "source": [
    "import os\n",
    "os.listdir('..')"
   ]
  },
  {
   "cell_type": "code",
   "execution_count": 50,
   "metadata": {},
   "outputs": [],
   "source": [
    "a6\n",
    "import multiprocessing\n",
    "\n",
    "def printsec(seconds):\n",
    "    from datetime import datetime\n",
    "    from time import sleep\n",
    "    sleep(seconds)\n",
    "    print('wait', seconds, 'seconds, time is', datetime.utcnow())\n",
    "    \n",
    "if __name__ == '__main__':\n",
    "    import random    \n",
    "    for n in range(3):\n",
    "        seconds = random.random()\n",
    "        proc = multiprocessing.Process(target=printsec, args=(seconds,))\n",
    "        proc.start()"
   ]
  },
  {
   "cell_type": "code",
   "execution_count": 65,
   "metadata": {},
   "outputs": [],
   "source": [
    "a7\n",
    "import datetime\n",
    "dob=datetime.date(1996,2,2)"
   ]
  },
  {
   "cell_type": "code",
   "execution_count": 66,
   "metadata": {},
   "outputs": [
    {
     "data": {
      "text/plain": [
       "4"
      ]
     },
     "execution_count": 66,
     "metadata": {},
     "output_type": "execute_result"
    }
   ],
   "source": [
    "a8\n",
    "dob.weekday()"
   ]
  },
  {
   "cell_type": "code",
   "execution_count": 68,
   "metadata": {},
   "outputs": [
    {
     "data": {
      "text/plain": [
       "datetime.date(2023, 6, 20)"
      ]
     },
     "execution_count": 68,
     "metadata": {},
     "output_type": "execute_result"
    }
   ],
   "source": [
    "a9\n",
    "from datetime import timedelta\n",
    "day10000 = dob + timedelta(days=10000)\n",
    "day10000"
   ]
  }
 ],
 "metadata": {
  "kernelspec": {
   "display_name": "Python 3",
   "language": "python",
   "name": "python3"
  },
  "language_info": {
   "codemirror_mode": {
    "name": "ipython",
    "version": 3
   },
   "file_extension": ".py",
   "mimetype": "text/x-python",
   "name": "python",
   "nbconvert_exporter": "python",
   "pygments_lexer": "ipython3",
   "version": "3.8.3"
  }
 },
 "nbformat": 4,
 "nbformat_minor": 4
}
