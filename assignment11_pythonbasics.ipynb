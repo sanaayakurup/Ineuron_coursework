{
 "cells": [
  {
   "cell_type": "markdown",
   "metadata": {},
   "source": [
    "## Assignment 11 "
   ]
  },
  {
   "cell_type": "code",
   "execution_count": 26,
   "metadata": {},
   "outputs": [
    {
     "name": "stdout",
     "output_type": "stream",
     "text": [
      "0\n",
      "spam is 0, and is positive\n"
     ]
    }
   ],
   "source": [
    "#--ans 1\n",
    "\n",
    "spam=int(input())\n",
    "assert spam>=0, \"spam is negative\" #check if spam is greater than 0, else raise an assertion error stating it is not \n",
    "print(f'spam is {spam}, and is positive')"
   ]
  },
  {
   "cell_type": "code",
   "execution_count": 30,
   "metadata": {},
   "outputs": [
    {
     "name": "stdout",
     "output_type": "stream",
     "text": [
      "HI\n",
      "hi\n"
     ]
    },
    {
     "ename": "AssertionError",
     "evalue": "both the variables are the  same",
     "output_type": "error",
     "traceback": [
      "\u001b[1;31m---------------------------------------------------------------------------\u001b[0m",
      "\u001b[1;31mAssertionError\u001b[0m                            Traceback (most recent call last)",
      "Input \u001b[1;32mIn [30]\u001b[0m, in \u001b[0;36m<module>\u001b[1;34m\u001b[0m\n\u001b[0;32m      1\u001b[0m bacon\u001b[38;5;241m=\u001b[39m(\u001b[38;5;28mstr\u001b[39m(\u001b[38;5;28minput\u001b[39m()))\u001b[38;5;241m.\u001b[39mlower()\n\u001b[0;32m      2\u001b[0m eggs\u001b[38;5;241m=\u001b[39m(\u001b[38;5;28mstr\u001b[39m(\u001b[38;5;28minput\u001b[39m()))\u001b[38;5;241m.\u001b[39mlower()\n\u001b[1;32m----> 3\u001b[0m \u001b[38;5;28;01massert\u001b[39;00m bacon\u001b[38;5;241m!=\u001b[39meggs,\u001b[38;5;124m\"\u001b[39m\u001b[38;5;124mboth the variables are the  same\u001b[39m\u001b[38;5;124m\"\u001b[39m\n\u001b[0;32m      4\u001b[0m \u001b[38;5;28mprint\u001b[39m(bacon,eggs)\n\u001b[0;32m      5\u001b[0m \u001b[38;5;28mprint\u001b[39m(\u001b[38;5;124mf\u001b[39m\u001b[38;5;124m'\u001b[39m\u001b[38;5;124mboth the variables \u001b[39m\u001b[38;5;132;01m{\u001b[39;00mbacon\u001b[38;5;132;01m}\u001b[39;00m\u001b[38;5;124m and \u001b[39m\u001b[38;5;132;01m{\u001b[39;00meggs\u001b[38;5;132;01m}\u001b[39;00m\u001b[38;5;124m are NOT same\u001b[39m\u001b[38;5;124m'\u001b[39m)\n",
      "\u001b[1;31mAssertionError\u001b[0m: both the variables are the  same"
     ]
    }
   ],
   "source": [
    "    bacon=(str(input())).lower()\n",
    "    eggs=(str(input())).lower()\n",
    "    assert bacon!=eggs,\"both the variables are the  same\" #make sure they are not equal , if they are raise an error \n",
    "    print(bacon,eggs)\n",
    "    print(f'both the variables {bacon} and {eggs} are NOT same')\n",
    "    "
   ]
  },
  {
   "cell_type": "code",
   "execution_count": 32,
   "metadata": {},
   "outputs": [],
   "source": [
    "answer 3\n",
    "assert(False, 'This assertion always triggers.')"
   ]
  },
  {
   "cell_type": "code",
   "execution_count": null,
   "metadata": {},
   "outputs": [],
   "source": [
    "ANSWER 4\n",
    "import logging \n",
    "logging.basicConfig(filename='xyz.txt',level=logging.DEBUG)\n"
   ]
  },
  {
   "cell_type": "code",
   "execution_count": 33,
   "metadata": {},
   "outputs": [],
   "source": [
    "Answer 5\n",
    "import logging \n",
    "logging.basicConfig(filename='programLog.txt',\n",
    "                   level=logging.DEBUG,\n",
    "                   format='%(asctime)s')"
   ]
  },
  {
   "cell_type": "code",
   "execution_count": null,
   "metadata": {},
   "outputs": [],
   "source": [
    "answer 6 \n",
    "the five levels of logging \n",
    "critical-will record a critical event \n",
    "error-will record an error\n",
    "warning- will log warnings generated when running the prog\n",
    "info-will log the differt tickers about a program\n",
    "debug-will log everything in the console"
   ]
  },
  {
   "cell_type": "code",
   "execution_count": null,
   "metadata": {},
   "outputs": [],
   "source": [
    "answer 7\n",
    "logging.disable(logging.CRITICAL)"
   ]
  },
  {
   "cell_type": "code",
   "execution_count": null,
   "metadata": {},
   "outputs": [],
   "source": [
    "answer 8\n",
    "print will only show up in the console, the print msgs can get lost, it is not prodcution grade \n",
    "logging on the other hand has a dedicated file for logging. Logging provides timestamps and is more flexible "
   ]
  },
  {
   "cell_type": "code",
   "execution_count": null,
   "metadata": {},
   "outputs": [],
   "source": [
    " answer 9\n",
    "  Step - one line execution at a time\n",
    " Over - excecute the next line of code, but if it is a program, it will\n",
    "        complete the entire function call.\n",
    " out  - execute the lines of code unti it returns from the current function.\n",
    "        (out is useful when you stepped into a function call).\n",
    "\n"
   ]
  },
  {
   "cell_type": "code",
   "execution_count": null,
   "metadata": {},
   "outputs": [],
   "source": [
    "answer 10 \n",
    "until the program terminate or reaches a breakpoint set."
   ]
  },
  {
   "cell_type": "code",
   "execution_count": null,
   "metadata": {},
   "outputs": [],
   "source": [
    "answer 11\n",
    "breakpoint is a setting on a line of code that causes the debugger to pause when the program execution reaches the line"
   ]
  }
 ],
 "metadata": {
  "kernelspec": {
   "display_name": "Python 3",
   "language": "python",
   "name": "python3"
  },
  "language_info": {
   "codemirror_mode": {
    "name": "ipython",
    "version": 3
   },
   "file_extension": ".py",
   "mimetype": "text/x-python",
   "name": "python",
   "nbconvert_exporter": "python",
   "pygments_lexer": "ipython3",
   "version": "3.8.3"
  }
 },
 "nbformat": 4,
 "nbformat_minor": 4
}
