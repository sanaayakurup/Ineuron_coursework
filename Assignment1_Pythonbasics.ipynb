{
 "cells": [
  {
   "cell_type": "markdown",
   "metadata": {},
   "source": [
    "## Assignment 1-Python Basic Assignment "
   ]
  },
  {
   "cell_type": "code",
   "execution_count": null,
   "metadata": {},
   "outputs": [],
   "source": [
    "# Answer 1\n",
    "Values are \n",
    "'hello',-87.8,6\n",
    "\n",
    "Expressions are \n",
    "- \n",
    "/ \n",
    "+\n",
    "*"
   ]
  },
  {
   "cell_type": "code",
   "execution_count": null,
   "metadata": {},
   "outputs": [],
   "source": [
    "Answer 2:\n",
    "A string consists of a collection characters i.e. alphabets which are represented in quotes-single or double(\"\" '')\n",
    "A variable could take on a value of any data type-string, integer, float, list, tuple, set, dictionary etc. "
   ]
  },
  {
   "cell_type": "code",
   "execution_count": null,
   "metadata": {},
   "outputs": [],
   "source": [
    "Answer 3:\n",
    "String: These are represented by characters in groups. They are in double or single quotes \n",
    "integer: These are data types that are whole numbers eg: 1,2,3,4. eg:the number of people in a que \n",
    "Float: these are data types that contain decimal numbers 1.2, 3.3, etc. eg: the liters of milk in a packet "
   ]
  },
  {
   "cell_type": "code",
   "execution_count": null,
   "metadata": {},
   "outputs": [],
   "source": [
    "Answer4.\n",
    "An expression can be made up of different type of variables, operatiors, functions etc. These expressions are evaluated by a compiler."
   ]
  },
  {
   "cell_type": "code",
   "execution_count": null,
   "metadata": {},
   "outputs": [],
   "source": [
    "Answer 5:\n",
    "The major difference between the two is that spam=10 only assigns a value to the variable, and does not return anything. \n",
    "An expression will carry out the given operations and return a value "
   ]
  },
  {
   "cell_type": "code",
   "execution_count": 13,
   "metadata": {},
   "outputs": [
    {
     "data": {
      "text/plain": [
       "24"
      ]
     },
     "execution_count": 13,
     "metadata": {},
     "output_type": "execute_result"
    }
   ],
   "source": [
    "Answer 6:\n",
    "variable Bacon will still be 22 as we have not overwritten the output.  \n",
    "However bacon+1 will print the output 23. \n",
    "if we want to overwrite the value of bacon to 23, we can run bacon+=1"
   ]
  },
  {
   "cell_type": "code",
   "execution_count": null,
   "metadata": {},
   "outputs": [],
   "source": [
    "Answer 7:\n",
    "'spamspamspam' is the output of both the expression"
   ]
  },
  {
   "cell_type": "code",
   "execution_count": null,
   "metadata": {},
   "outputs": [],
   "source": [
    "Answer 8:\n",
    "    If we name a variable as an integer or float, i.e. 4,5 then we cant assign another integer or float value to it as it would be conflicting \n",
    "    5=4, 4=5 . where as we can assign strings or integers to varialbe names like egg etc "
   ]
  },
  {
   "cell_type": "code",
   "execution_count": null,
   "metadata": {},
   "outputs": [],
   "source": [
    "answer 9:\n",
    "    What three functions can be used to get the integer, floating-point number, or string version of a value?\n",
    "    int(variable) #converts to integer\n",
    "    float(variable) #convertd to float \n",
    "    str(variable) #conv to string"
   ]
  },
  {
   "cell_type": "code",
   "execution_count": null,
   "metadata": {},
   "outputs": [],
   "source": [
    "answer 10: Why does this expression cause an error? How can you fix it?\n",
    "    it causes an error because you cannot add a string with an integer or float. \n",
    "    we need to convert 99 to a string for this expression to work \n",
    "'I have eaten ' + str(99) + ' burritos.'\n"
   ]
  }
 ],
 "metadata": {
  "kernelspec": {
   "display_name": "Python 3",
   "language": "python",
   "name": "python3"
  },
  "language_info": {
   "codemirror_mode": {
    "name": "ipython",
    "version": 3
   },
   "file_extension": ".py",
   "mimetype": "text/x-python",
   "name": "python",
   "nbconvert_exporter": "python",
   "pygments_lexer": "ipython3",
   "version": "3.8.3"
  }
 },
 "nbformat": 4,
 "nbformat_minor": 4
}
