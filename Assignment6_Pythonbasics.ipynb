{
 "cells": [
  {
   "cell_type": "markdown",
   "metadata": {},
   "source": [
    "## Assignment 6"
   ]
  },
  {
   "cell_type": "code",
   "execution_count": null,
   "metadata": {},
   "outputs": [],
   "source": [
    "1\n",
    "escape characters in python are backlashes, and are used to tell the compiler that the next character has a different meaning i.e. it needs to interpret it in a seperate way \n",
    "for example\n",
    "print('Hi, I\\'m from Pune')\n",
    "the escape character here is used to tell the compiler to treat the qoute in \"I'm\" as a character not as a quote."
   ]
  },
  {
   "cell_type": "code",
   "execution_count": 4,
   "metadata": {
    "scrolled": true
   },
   "outputs": [
    {
     "name": "stdout",
     "output_type": "stream",
     "text": [
      "i am a hunt\ter\n"
     ]
    }
   ],
   "source": [
    "2\n",
    "escape character \\n represents a new line \n",
    "escape character \\t represents a tab space \n",
    "print('i am a hunt\\ter')- the part afeter \\t will be printed after a horizontal tab \n",
    "print('i am a hunt\\ner')- the part afeter \\n will be printed on a new line"
   ]
  },
  {
   "cell_type": "code",
   "execution_count": null,
   "metadata": {},
   "outputs": [],
   "source": [
    "3\n",
    "add \\n or \\t within the string , along with quotes \n",
    "for example \n",
    "print('aan\\naya')"
   ]
  },
  {
   "cell_type": "code",
   "execution_count": 6,
   "metadata": {},
   "outputs": [],
   "source": [
    "4\n",
    "it is not a problem as it will be wrapped in double quotes "
   ]
  },
  {
   "cell_type": "code",
   "execution_count": 16,
   "metadata": {},
   "outputs": [
    {
     "name": "stdout",
     "output_type": "stream",
     "text": [
      "hello\r\n",
      "world\n"
     ]
    }
   ],
   "source": [
    "5\n",
    "import os\n",
    "keyword = 'hello'+ os.linesep + 'world'\n",
    "print(keyword)\n"
   ]
  },
  {
   "cell_type": "code",
   "execution_count": null,
   "metadata": {},
   "outputs": [],
   "source": [
    "6\n",
    "e\n",
    "Hello\n",
    "Hello\n",
    "lo, world!"
   ]
  },
  {
   "cell_type": "code",
   "execution_count": null,
   "metadata": {},
   "outputs": [],
   "source": [
    "7\n",
    "HELLO\n",
    "True\n",
    "hello"
   ]
  },
  {
   "cell_type": "code",
   "execution_count": 26,
   "metadata": {},
   "outputs": [
    {
     "data": {
      "text/plain": [
       "['remember,remem,', 'the', 'fifth', 'of', 'july']"
      ]
     },
     "execution_count": 26,
     "metadata": {},
     "output_type": "execute_result"
    }
   ],
   "source": [
    "['remember,rememember,', 'the', 'fifth', 'of', 'july']"
   ]
  },
  {
   "cell_type": "code",
   "execution_count": 27,
   "metadata": {},
   "outputs": [
    {
     "data": {
      "text/plain": [
       "'There-can-be-only-one'"
      ]
     },
     "execution_count": 27,
     "metadata": {},
     "output_type": "execute_result"
    }
   ],
   "source": [
    "'-'.join('There can be only one'.split())\n",
    "'There-can-be-only-one'"
   ]
  },
  {
   "cell_type": "code",
   "execution_count": 33,
   "metadata": {},
   "outputs": [
    {
     "name": "stdout",
     "output_type": "stream",
     "text": [
      "             i am a hunter               \n",
      "\n",
      "i am a hunter---------------------------\n",
      "---------------------------i am a hunter\n"
     ]
    }
   ],
   "source": [
    "8\n",
    "#centering a string can be done with center\n",
    "a=\"i am a hunter\"\n",
    "print (a.center(40), \"\\n\")\n",
    "print (a.ljust(40, '-'))\n",
    "print (a.rjust(40, '-'))\n",
    "\n",
    "\n"
   ]
  },
  {
   "cell_type": "code",
   "execution_count": 46,
   "metadata": {},
   "outputs": [
    {
     "name": "stdout",
     "output_type": "stream",
     "text": [
      "   This is Test String to test all the spaces        \n",
      "This is Test String to test all the spaces\n"
     ]
    }
   ],
   "source": [
    "9\n",
    "string = \"   This is Test String to test all the spaces        \"\n",
    "print(string)\n",
    "print(string.strip())"
   ]
  }
 ],
 "metadata": {
  "kernelspec": {
   "display_name": "Python 3",
   "language": "python",
   "name": "python3"
  },
  "language_info": {
   "codemirror_mode": {
    "name": "ipython",
    "version": 3
   },
   "file_extension": ".py",
   "mimetype": "text/x-python",
   "name": "python",
   "nbconvert_exporter": "python",
   "pygments_lexer": "ipython3",
   "version": "3.8.3"
  }
 },
 "nbformat": 4,
 "nbformat_minor": 4
}
